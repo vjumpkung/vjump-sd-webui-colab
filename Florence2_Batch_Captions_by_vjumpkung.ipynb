{
  "nbformat": 4,
  "nbformat_minor": 0,
  "metadata": {
    "colab": {
      "provenance": [],
      "gpuType": "T4",
      "authorship_tag": "ABX9TyOZxuYfs3QQnqzKZW9lLYAE",
      "include_colab_link": true
    },
    "kernelspec": {
      "name": "python3",
      "display_name": "Python 3"
    },
    "language_info": {
      "name": "python"
    },
    "accelerator": "GPU"
  },
  "cells": [
    {
      "cell_type": "markdown",
      "metadata": {
        "id": "view-in-github",
        "colab_type": "text"
      },
      "source": [
        "<a href=\"https://colab.research.google.com/github/vjumpkung/vjump-sd-webui-colab/blob/main/Florence2_Batch_Captions_by_vjumpkung.ipynb\" target=\"_parent\"><img src=\"https://colab.research.google.com/assets/colab-badge.svg\" alt=\"Open In Colab\"/></a>"
      ]
    },
    {
      "cell_type": "markdown",
      "source": [
        "# **Colab caption ภาพสำหรับการเทรน LoRA ด้วยโมเดล Florence 2**\n",
        "\n",
        "## แจ้งปัญหาการใช้งาน\n",
        "\n",
        "https://www.facebook.com/chanrich.pisitjing/\n",
        "\n",
        "## วิธีการใช้งาน\n",
        "\n",
        "1. Upload Folder รูปภาพพร้อม caption โดยให้ Upload เป็น .zip\n",
        "2. กด เชื่อมต่อ Google Drive\n",
        "3. ให้ไปที่ไฟล์ .zip ที่ต้องการที่จะ caption แล้วกดคลิ๊กขวา และ Copy Path\n",
        "\n",
        "![image.png](data:image/png;base64,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)\n",
        "\n",
        "4. กด Caption ภาพ ซึ่งจะได้ folder ที่ทำการ caption ภาพ และ .zip ที่มี caption แล้ว ชื่อ ชื่อไฟล์_captioned.zip"
      ],
      "metadata": {
        "id": "NIy9RKjVQL2_"
      }
    },
    {
      "cell_type": "code",
      "source": [
        "#@title # เชื่อมต่อ Google Drive\n",
        "from google.colab import drive\n",
        "print(\"mounting Google Drive\")\n",
        "drive.mount('/content/drive')"
      ],
      "metadata": {
        "cellView": "form",
        "id": "ROJKYVipP8h8"
      },
      "execution_count": null,
      "outputs": []
    },
    {
      "cell_type": "code",
      "source": [
        "#@title # Caption ภาพ\n",
        "\n",
        "# @markdown 1. ให้ผู้ใช้ Copy Path zip file ที่มี dataset อยู่\n",
        "\n",
        "# @markdown 2. เลือกรูปแบบของ caption มี tag กับ บรรยาย ให้เลือกตามโมเดลที่เทรน (tag ใช้ได้กับ sd1.5 เช่นกัน)\n",
        "\n",
        "# @markdown 3. ให้ใส่ trigger word ที่ต้องการเข้าไป\n",
        "\n",
        "# @markdown 4. กด run เพื่อทำการ caption รูปภาพที่มีทั้งหมด (หากมี caption อยู่แล้วจะถูกแทนที่ทันทีให้ backup ก่อนที่จะทำการ caption)\n",
        "\n",
        "import requests\n",
        "\n",
        "zip_location = \"\" # @param {type:\"string\"}\n",
        "caption_types = \"บรรยาย (สำหรับ Flux)\" # @param [\"บรรยาย (สำหรับ Flux)\", \"tag (สำหรับ Pony, Illustrious)\"]\n",
        "TRIGGER_WORD = \"\" # @param {type:\"string\"}\n",
        "\n",
        "\n",
        "r = requests.get(\"https://raw.githubusercontent.com/vjumpkung/vjump-runpod-notebooks-and-script/refs/heads/main/florence2_colab_scripts/main.py\")\n",
        "\n",
        "exec(r.text)"
      ],
      "metadata": {
        "cellView": "form",
        "id": "IYNN-c1OBZEO"
      },
      "execution_count": null,
      "outputs": []
    }
  ]
}