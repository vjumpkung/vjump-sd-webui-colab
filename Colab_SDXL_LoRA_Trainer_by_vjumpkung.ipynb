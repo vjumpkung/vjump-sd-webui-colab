{
  "nbformat": 4,
  "nbformat_minor": 0,
  "metadata": {
    "colab": {
      "provenance": [],
      "collapsed_sections": [
        "Re__OBwVM3_2"
      ],
      "gpuType": "T4",
      "authorship_tag": "ABX9TyMI39SRE//wAOEgZCf+9utJ",
      "include_colab_link": true
    },
    "kernelspec": {
      "name": "python3",
      "display_name": "Python 3"
    },
    "language_info": {
      "name": "python"
    },
    "accelerator": "GPU"
  },
  "cells": [
    {
      "cell_type": "markdown",
      "metadata": {
        "id": "view-in-github",
        "colab_type": "text"
      },
      "source": [
        "<a href=\"https://colab.research.google.com/github/vjumpkung/vjump-sd-webui-colab/blob/main/Colab_SDXL_LoRA_Trainer_by_vjumpkung.ipynb\" target=\"_parent\"><img src=\"https://colab.research.google.com/assets/colab-badge.svg\" alt=\"Open In Colab\"/></a>"
      ]
    },
    {
      "cell_type": "markdown",
      "source": [
        "# **kohya-ss GUI v24.3.0 Colab Version**\n",
        "\n",
        "- แนะนำ Colab Pro T4 High Ram หรือ สูงกว่าในการ Train LoRA\n",
        "\n",
        "- Colab Pro GPU T4 High Ram สามารถรันได้แค่ fp16 เท่านั้น หากต้องการใช้ BF16 ให้ใช้ GPU L4 ขึ้นไป\n",
        "\n",
        "- การเลือกตำแหน่งของ path ให้คลิ๊กขวาแล้วกด copy path แล้ววางในแต่ละส่วน\n",
        "\n",
        "- ตำแหน่งของ model จะอยู่ที่ folder model\n",
        "\n",
        "- หากต้องการหยุดโปรแกรม (kohya-ss gui) ให้กด Runtime -> Interrupt Execution\n",
        "\n",
        "## รายชื่อ Model ที่มีให้ Download\n",
        "\n",
        "### Stable Diffusion 1.5\n",
        "\n",
        "- Stable Diffusion 1.5 (Base Model)\n",
        "- AnyLoRA (สำหรับเทรน Anime)\n",
        "- ChilloutMix (สำหรับ Realistic หน้าเอเชีย)\n",
        "\n",
        "### SDXL\n",
        "\n",
        "- SDXL V1.0 (Base Model)\n",
        "- Juggernaut XL XI (สำหรับ Realistic)\n",
        "- animagine-xl-3.1 (สำหรับ Anime)\n",
        "\n",
        "### SDXL Fine-Tuned\n",
        "\n",
        "- Pony Diffusion V6 XL (Pony)\n",
        "- Illustrious-XL-v0.1 (Illustrious)\n",
        "\n",
        "### SD3\n",
        "\n",
        "- Stable Diffusion 3 Medium\n",
        "\n",
        "### SD3.5\n",
        "\n",
        "- Stable Diffusion 3.5 Large\n",
        "- Stable Diffusion 3.5 Medium\n",
        "\n",
        "### Flux\n",
        "\n",
        "- Flux.1 Dev (FP16)\n",
        "- Flux.1 Dev (FP8)"
      ],
      "metadata": {
        "id": "5ujfXbFYNUNE"
      }
    },
    {
      "cell_type": "markdown",
      "source": [
        "## Initialization (กด run อันนี้ก่อนเสมอ)"
      ],
      "metadata": {
        "id": "Re__OBwVM3_2"
      }
    },
    {
      "cell_type": "code",
      "source": [
        "import os\n",
        "import sys\n",
        "from google.colab import drive\n",
        "from IPython.display import clear_output\n",
        "import requests\n",
        "from google.colab import drive\n",
        "drive.mount('/content/drive')\n",
        "!apt-get -y install -qq aria2 &> /dev/null\n",
        "!git clone --recurse-submodules https://github.com/vjumpkung/kohya_ss.git\n",
        "!pip install accelerate==0.34.2 aiofiles==23.2.1 altair==4.2.2 dadaptation==3.2 diffusers[torch]==0.25.0 easygui==0.98.3 einops==0.7.0 fairscale==0.4.13 ftfy==6.1.1 gradio==5.9.1 huggingface-hub==0.25.2 imagesize==1.4.1 invisible-watermark==0.2.0 lion-pytorch==0.0.6 lycoris_lora==3.1.0 omegaconf==2.3.0 onnx==1.16.1 prodigyopt==1.0 protobuf==3.20.3 open-clip-torch==2.20.0 opencv-python==4.10.0.84 prodigyopt==1.0 prodigy-plus-schedule-free==1.8.0 pytorch-lightning==1.9.0 rich>=13.7.1 safetensors==0.4.4 schedulefree==1.4 scipy==1.11.4 sentencepiece==0.2.0 timm==0.6.7 tk==0.1.0 toml==0.10.2 transformers==4.40.0 voluptuous==0.13.1 wandb==0.18.0 bitsandbytes==0.45.0 xformers==0.0.29.post2\n",
        "!wget https://raw.githubusercontent.com/vjumpkung/vjump-kohya-ss-gui-runpod-template/refs/heads/master/ui/google_drive_download.py\n",
        "!mkdir -p ./model/checkpoints/ ./model/unet/ ./model/clip/ ./model/vae/ ./lora_project/"
      ],
      "metadata": {
        "id": "pLBG119IM8tW"
      },
      "execution_count": null,
      "outputs": []
    },
    {
      "cell_type": "code",
      "source": [
        "!wget https://raw.githubusercontent.com/vjumpkung/vjump-runpod-notebooks-and-script/refs/heads/main/colab_kohya_ss/main.py\n",
        "exec(\"from main import *\")"
      ],
      "metadata": {
        "id": "SfsXS6W6MkY2"
      },
      "execution_count": null,
      "outputs": []
    },
    {
      "cell_type": "markdown",
      "source": [
        "## (ไม่บังคับ) ใส่ CivitAI API Key หรือ Huggingface token"
      ],
      "metadata": {
        "id": "IJYV6hPiOBAv"
      }
    },
    {
      "cell_type": "code",
      "source": [
        "exec(\"setup()\")"
      ],
      "metadata": {
        "id": "WdPbY_aLOFgS"
      },
      "execution_count": null,
      "outputs": []
    },
    {
      "cell_type": "markdown",
      "source": [
        "### Download Dataset จาก Google Drive/Huggingface\n",
        "\n",
        "- แนะนำให้ upload ลง google drive ให้เป็นไฟล์ .zip"
      ],
      "metadata": {
        "id": "pztj8x_G1SVd"
      }
    },
    {
      "cell_type": "code",
      "source": [
        "exec(\"download_dataset()\")"
      ],
      "metadata": {
        "id": "G_c6pnTY1R9N"
      },
      "execution_count": null,
      "outputs": []
    },
    {
      "cell_type": "markdown",
      "source": [
        "## เลือก Pretrained Model ที่ต้องการ Download (checkpoint)"
      ],
      "metadata": {
        "id": "Eu0NGjIFNFAI"
      }
    },
    {
      "cell_type": "code",
      "source": [
        "exec(\"select_pretrained_model()\")"
      ],
      "metadata": {
        "id": "LJ-WVlPNM-UO"
      },
      "execution_count": null,
      "outputs": []
    },
    {
      "cell_type": "markdown",
      "source": [
        "## เลือก Clip, VAE (สำหรับ Flux และ SD3)"
      ],
      "metadata": {
        "id": "KhtbNXIDNMJf"
      }
    },
    {
      "cell_type": "code",
      "source": [
        "exec(\"select_clip_vae_model()\")"
      ],
      "metadata": {
        "id": "TkNAZf3tNL1B"
      },
      "execution_count": null,
      "outputs": []
    },
    {
      "cell_type": "markdown",
      "source": [
        "## เริ่มโปรแกรม Kohya-SS GUI"
      ],
      "metadata": {
        "id": "uBt1lviZNPTo"
      }
    },
    {
      "cell_type": "code",
      "source": [
        "exec(\"launch_kohya_ss()\")"
      ],
      "metadata": {
        "id": "GoBpAVaUNPBZ"
      },
      "execution_count": null,
      "outputs": []
    },
    {
      "cell_type": "markdown",
      "source": [
        "## หากพบปัญหาสามารถแจ้งได้ที่\n",
        "\n",
        "facebook : https://www.facebook.com/chanrich.pisitjing/"
      ],
      "metadata": {
        "id": "CUcqDJsqNRRV"
      }
    }
  ]
}