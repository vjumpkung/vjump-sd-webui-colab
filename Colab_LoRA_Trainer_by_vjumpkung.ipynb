{
  "nbformat": 4,
  "nbformat_minor": 0,
  "metadata": {
    "colab": {
      "provenance": [],
      "collapsed_sections": [
        "Re__OBwVM3_2"
      ],
      "gpuType": "T4",
      "authorship_tag": "ABX9TyO86OdSq64VohMWt/ME4lns",
      "include_colab_link": true
    },
    "kernelspec": {
      "name": "python3",
      "display_name": "Python 3"
    },
    "language_info": {
      "name": "python"
    },
    "accelerator": "GPU"
  },
  "cells": [
    {
      "cell_type": "markdown",
      "metadata": {
        "id": "view-in-github",
        "colab_type": "text"
      },
      "source": [
        "<a href=\"https://colab.research.google.com/github/vjumpkung/vjump-sd-webui-colab/blob/main/Colab_LoRA_Trainer_by_vjumpkung.ipynb\" target=\"_parent\"><img src=\"https://colab.research.google.com/assets/colab-badge.svg\" alt=\"Open In Colab\"/></a>"
      ]
    },
    {
      "cell_type": "markdown",
      "source": [
        "# **kohya-ss GUI Colab Version**\n",
        "\n",
        "- แนะนำ Colab Pro L4 High Ram หรือ สูงกว่าในการ Train LoRA\n",
        "\n",
        "- Colab Pro GPU T4 High Ram สามารถเทรนได้ด้วยการใช้ mixed precision fp16 เท่านั้นทำให้เทรน Flux ไม่ได้\n",
        "\n",
        "- การเลือกตำแหน่งของ path ให้คลิ๊กขวาแล้วกด copy path แล้ววางในแต่ละส่วน\n",
        "\n",
        "- ตำแหน่งของ model จะอยู่ที่ folder model\n",
        "\n",
        "- หากต้องการหยุดโปรแกรม (kohya-ss gui) ให้กด Runtime -> Interrupt Execution\n",
        "\n",
        "## รายชื่อ Model ที่มีให้ Download\n",
        "\n",
        "### Stable Diffusion 1.5\n",
        "\n",
        "- Stable Diffusion 1.5 (Base Model)\n",
        "- AnyLoRA (สำหรับเทรน Anime)\n",
        "- ChilloutMix (สำหรับ Realistic หน้าเอเชีย)\n",
        "\n",
        "### SDXL\n",
        "\n",
        "- SDXL V1.0 (Base Model)\n",
        "- Juggernaut XL XI (สำหรับ Realistic)\n",
        "- animagine-xl-3.1 (สำหรับ Anime)\n",
        "\n",
        "### SDXL Fine-Tuned\n",
        "\n",
        "- Pony Diffusion V6 XL (Pony)\n",
        "- Illustrious-XL-v0.1 (Illustrious)\n",
        "\n",
        "### SD3\n",
        "\n",
        "- Stable Diffusion 3 Medium\n",
        "\n",
        "### SD3.5\n",
        "\n",
        "- Stable Diffusion 3.5 Large\n",
        "- Stable Diffusion 3.5 Medium\n",
        "\n",
        "### Flux\n",
        "\n",
        "- Flux.1 Dev (FP16)\n",
        "- Flux.1 Dev (FP8)"
      ],
      "metadata": {
        "id": "5ujfXbFYNUNE"
      }
    },
    {
      "cell_type": "markdown",
      "source": [
        "## Initialization (กด run อันนี้ก่อนเสมอ)"
      ],
      "metadata": {
        "id": "Re__OBwVM3_2"
      }
    },
    {
      "cell_type": "code",
      "source": [
        "import os\n",
        "import sys\n",
        "from google.colab import drive\n",
        "from IPython.display import clear_output\n",
        "import requests\n",
        "from google.colab import drive\n",
        "drive.mount('/content/drive')\n",
        "!apt-get -y install -qq aria2 &> /dev/null\n",
        "!git clone --recurse-submodules https://github.com/bmaltais/kohya_ss.git\n",
        "%cd kohya_ss\n",
        "!uv pip install --system -q -r https://gist.githubusercontent.com/vjumpkung/de08e1032b14734caa7177d26159fd74/raw/1c95a15eb26c1c9488f4c2947b79bd2d600c95f5/colab_kohya_req.txt\n",
        "!uv pip install --system -q \"xformers==v0.0.29.post3\" \"bitsandbytes\"\n",
        "%cd /content\n",
        "!wget https://raw.githubusercontent.com/vjumpkung/vjump-runpod-notebooks-and-script/refs/heads/main/colab_kohya_ss/main.py -O main.py\n",
        "!wget https://raw.githubusercontent.com/vjumpkung/vjump-runpod-notebooks-and-script/refs/heads/main/kohya_ss_notebooks/ui/google_drive_download.py -O google_drive_download.py\n",
        "!mkdir -p ./model/checkpoints/ ./model/unet/ ./model/clip/ ./model/vae/ ./lora_project/\n",
        "exec(\"from main import *\")\n",
        "SETUP=\"setup()\"\n",
        "DOWNLOAD_DATASET=\"download_dataset()\"\n",
        "PRETRAINED_MODEL=\"select_pretrained_model()\"\n",
        "CLIP_VAE_MODEL=\"select_clip_vae_model()\"\n",
        "KOHYA_SS=\"launch_kohya_ss()\""
      ],
      "metadata": {
        "id": "pLBG119IM8tW"
      },
      "execution_count": null,
      "outputs": []
    },
    {
      "cell_type": "markdown",
      "source": [
        "## (ไม่บังคับ) ใส่ CivitAI API Key หรือ Huggingface token"
      ],
      "metadata": {
        "id": "IJYV6hPiOBAv"
      }
    },
    {
      "cell_type": "code",
      "source": [
        "exec(SETUP)"
      ],
      "metadata": {
        "id": "WdPbY_aLOFgS"
      },
      "execution_count": null,
      "outputs": []
    },
    {
      "cell_type": "markdown",
      "source": [
        "### Download Dataset จาก Google Drive/Huggingface\n",
        "\n",
        "- แนะนำให้ upload ลง google drive ให้เป็นไฟล์ .zip"
      ],
      "metadata": {
        "id": "pztj8x_G1SVd"
      }
    },
    {
      "cell_type": "code",
      "source": [
        "exec(DOWNLOAD_DATASET)"
      ],
      "metadata": {
        "id": "G_c6pnTY1R9N"
      },
      "execution_count": null,
      "outputs": []
    },
    {
      "cell_type": "markdown",
      "source": [
        "## เลือก Pretrained Model ที่ต้องการ Download (checkpoint)"
      ],
      "metadata": {
        "id": "Eu0NGjIFNFAI"
      }
    },
    {
      "cell_type": "code",
      "source": [
        "exec(PRETRAINED_MODEL)"
      ],
      "metadata": {
        "id": "LJ-WVlPNM-UO"
      },
      "execution_count": null,
      "outputs": []
    },
    {
      "cell_type": "markdown",
      "source": [
        "## เลือก Clip, VAE (สำหรับ Flux และ SD3)"
      ],
      "metadata": {
        "id": "KhtbNXIDNMJf"
      }
    },
    {
      "cell_type": "code",
      "source": [
        "exec(CLIP_VAE_MODEL)"
      ],
      "metadata": {
        "id": "TkNAZf3tNL1B"
      },
      "execution_count": null,
      "outputs": []
    },
    {
      "cell_type": "markdown",
      "source": [
        "## เริ่มโปรแกรม Kohya-SS GUI"
      ],
      "metadata": {
        "id": "uBt1lviZNPTo"
      }
    },
    {
      "cell_type": "code",
      "source": [
        "exec(KOHYA_SS)"
      ],
      "metadata": {
        "id": "GoBpAVaUNPBZ"
      },
      "execution_count": null,
      "outputs": []
    },
    {
      "cell_type": "markdown",
      "source": [
        "## หากพบปัญหาสามารถแจ้งได้ที่\n",
        "\n",
        "facebook : https://www.facebook.com/pixellatent"
      ],
      "metadata": {
        "id": "CUcqDJsqNRRV"
      }
    }
  ]
}